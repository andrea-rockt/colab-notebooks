{
  "nbformat": 4,
  "nbformat_minor": 0,
  "metadata": {
    "colab": {
      "name": "project-nessie-training.ipynb",
      "provenance": [],
      "authorship_tag": "ABX9TyOxIjeLH/LHc/EF09TxBz9y",
      "include_colab_link": true
    },
    "kernelspec": {
      "name": "python3",
      "display_name": "Python 3"
    },
    "language_info": {
      "name": "python"
    }
  },
  "cells": [
    {
      "cell_type": "markdown",
      "metadata": {
        "id": "view-in-github",
        "colab_type": "text"
      },
      "source": [
        "<a href=\"https://colab.research.google.com/github/andrea-rockt/colab-notebooks/blob/main/project_nessie_training.ipynb\" target=\"_parent\"><img src=\"https://colab.research.google.com/assets/colab-badge.svg\" alt=\"Open In Colab\"/></a>"
      ]
    },
    {
      "cell_type": "markdown",
      "source": [
        "# Installing prerequisites\n",
        "\n",
        "We are going to configure this colab instance by:\n",
        "\n",
        "* downloading spark-3.2.0\n",
        "* downloading a binary distribution of quarkus nessie\n",
        "\n",
        "We are going to access web uis via tunnels provided by ngrok (register with your github account or google account and get your auth token)\n",
        "\n",
        "replace `THE_AUTH_TOKEN_FOR_NGROK` with your actual auth token"
      ],
      "metadata": {
        "id": "3Io8hXp5nEUB"
      }
    },
    {
      "cell_type": "code",
      "execution_count": 1,
      "metadata": {
        "colab": {
          "base_uri": "https://localhost:8080/"
        },
        "id": "1dnXdnDVTH-V",
        "outputId": "315fbcb8-f3cb-4114-e837-c6ca8e551ee6"
      },
      "outputs": [
        {
          "output_type": "stream",
          "name": "stdout",
          "text": [
            "Installing SPARK\n",
            "Installing FINDSPARK\n",
            "Installing NESSIE\n",
            "Authtoken saved to configuration file: /root/.ngrok2/ngrok.yml\n"
          ]
        },
        {
          "output_type": "execute_result",
          "data": {
            "text/plain": [
              ""
            ]
          },
          "metadata": {},
          "execution_count": 1
        }
      ],
      "source": [
        "%%shell\n",
        "mkdir -p build\n",
        "cd build\n",
        "echo \"Installing SPARK\"\n",
        "wget -q https://downloads.apache.org/spark/spark-3.1.2/spark-3.1.2-bin-hadoop3.2.tgz\n",
        "tar xf spark-3.1.2-bin-hadoop3.2.tgz\n",
        "echo \"Installing FINDSPARK\"\n",
        "pip -q install findspark\n",
        "echo \"Installing NESSIE\"\n",
        "wget -q https://github.com/andrea-rockt/colab-notebooks/raw/main/data/nessie-quarkus-0.9.2.tar.gz\n",
        "tar xf nessie-quarkus-0.9.2.tar.gz\n",
        "chmod +x nessie-quarkus-0.9.2.bin\n",
        "wget -q https://bin.equinox.io/c/4VmDzA7iaHb/ngrok-stable-linux-amd64.tgz\n",
        "tar xf ngrok-stable-linux-amd64.tgz\n",
        "\n",
        "./ngrok authtoken THE_AUTH_TOKEN_FOR_NGROK"
      ]
    },
    {
      "cell_type": "markdown",
      "source": [
        "We will start nessie as a background process, nessie will serve its web UI at localhost:19120\n",
        "\n",
        "nessie will use in memory persistence so everything we do will be ephemeral"
      ],
      "metadata": {
        "id": "C2Eze39Js3BR"
      }
    },
    {
      "cell_type": "code",
      "source": [
        "import os\n",
        "os.system(\"/content/build/nessie-quarkus-0.9.2.bin 2>&1 > nessie.log &\")"
      ],
      "metadata": {
        "colab": {
          "base_uri": "https://localhost:8080/"
        },
        "id": "qiRWowJcXI4N",
        "outputId": "c047d2d7-0924-48c4-e6e0-714dfe3c5deb"
      },
      "execution_count": 2,
      "outputs": [
        {
          "output_type": "execute_result",
          "data": {
            "text/plain": [
              "0"
            ]
          },
          "metadata": {},
          "execution_count": 2
        }
      ]
    },
    {
      "cell_type": "code",
      "source": [
        "import findspark\n",
        "import os\n",
        "os.environ[\"JAVA_HOME\"] = \"/usr/lib/jvm/java-11-openjdk-amd64\"\n",
        "os.environ[\"SPARK_HOME\"] = \"/content/build/spark-3.1.2-bin-hadoop3.2\"\n",
        "\n",
        "# Full url of the Nessie API endpoint to nessie\n",
        "url = \"http://localhost:19120/api/v1\"\n",
        "# Where to store nessie tables\n",
        "full_path_to_warehouse = '/warehouse/'\n",
        "# The ref or context that nessie will operate on (if different from default branch).\n",
        "# Can be the name of a Nessie branch or tag or a Nessie commit SHA.\n",
        "ref = \"main\"\n",
        "# Nessie authentication type (BASIC, NONE or AWS)\n",
        "auth_type = \"NONE\"\n",
        "\n",
        "findspark.init()\n",
        "from pyspark.sql import SparkSession\n",
        "spark= SparkSession \\\n",
        "       .builder \\\n",
        "       .appName(\"Our First Spark example\") \\\n",
        "       .config(\"spark.jars.packages\",\n",
        "              \"org.apache.iceberg:iceberg-spark3-runtime:0.12.0,org.projectnessie:nessie-spark-extensions:0.18.0\") \\\n",
        "        .config(\"spark.sql.extensions\", \n",
        "               \"org.apache.iceberg.spark.extensions.IcebergSparkSessionExtensions,org.projectnessie.spark.extensions.NessieSparkSessionExtensions\") \\\n",
        "        .config(\"spark.sql.catalog.nessie.uri\", url) \\\n",
        "        .config(\"spark.sql.catalog.nessie.ref\", ref) \\\n",
        "        .config(\"spark.sql.catalog.nessie.authentication.type\", auth_type) \\\n",
        "        .config(\"spark.sql.catalog.nessie.catalog-impl\", \n",
        "               \"org.apache.iceberg.nessie.NessieCatalog\") \\\n",
        "        .config(\"spark.sql.catalog.nessie.warehouse\", full_path_to_warehouse) \\\n",
        "        .config(\"spark.sql.catalog.nessie\",\n",
        "               \"org.apache.iceberg.spark.SparkCatalog\") \\\n",
        "       .getOrCreate()\n",
        "spark"
      ],
      "metadata": {
        "id": "GL8UdHzgpqC2",
        "colab": {
          "base_uri": "https://localhost:8080/",
          "height": 216
        },
        "outputId": "3a6be451-dd3b-4281-f425-16973da0e148"
      },
      "execution_count": 3,
      "outputs": [
        {
          "output_type": "execute_result",
          "data": {
            "text/html": [
              "\n",
              "            <div>\n",
              "                <p><b>SparkSession - in-memory</b></p>\n",
              "                \n",
              "        <div>\n",
              "            <p><b>SparkContext</b></p>\n",
              "\n",
              "            <p><a href=\"http://9196522f9255:4040\">Spark UI</a></p>\n",
              "\n",
              "            <dl>\n",
              "              <dt>Version</dt>\n",
              "                <dd><code>v3.1.2</code></dd>\n",
              "              <dt>Master</dt>\n",
              "                <dd><code>local[*]</code></dd>\n",
              "              <dt>AppName</dt>\n",
              "                <dd><code>Our First Spark example</code></dd>\n",
              "            </dl>\n",
              "        </div>\n",
              "        \n",
              "            </div>\n",
              "        "
            ],
            "text/plain": [
              "<pyspark.sql.session.SparkSession at 0x7f7d88481410>"
            ]
          },
          "metadata": {},
          "execution_count": 3
        }
      ]
    },
    {
      "cell_type": "markdown",
      "source": [
        "# Input dataset preparation\n",
        "\n",
        "We are going to prepare data directly in the main branch to simulate a starting state of our initial data pipeline"
      ],
      "metadata": {
        "id": "W9rtLVdA-01y"
      }
    },
    {
      "cell_type": "code",
      "source": [
        "#we are going to download a dataset of nba players\n",
        "!wget -q https://github.com/sivabalanb/Data-Analysis-with-Pandas-and-Python/raw/master/nba.csv"
      ],
      "metadata": {
        "id": "uDTF-MF_cx6K"
      },
      "execution_count": 4,
      "outputs": []
    },
    {
      "cell_type": "code",
      "source": [
        "from pyspark.sql.types import StructType,StructField, StringType, IntegerType, DoubleType, DecimalType\n",
        "from pyspark.sql.functions import mean\n",
        "playersSchema = StructType([\n",
        "  StructField(\"Name\",StringType(),False), \\\n",
        "  StructField(\"Team\",StringType(),True), \\\n",
        "  StructField(\"Number\",StringType(),True), \\\n",
        "  StructField(\"Position\", StringType(), True), \\\n",
        "  StructField(\"Age\", StringType(), True), \\\n",
        "  StructField(\"Height\", StringType(), True), \\\n",
        "  StructField(\"Weight\", DoubleType(), True), \\\n",
        "  StructField(\"College\", StringType(), True), \\\n",
        "  StructField(\"Salary\", DecimalType(14, 2), True)\n",
        "])\n"
      ],
      "metadata": {
        "id": "xUyF5eXT_cAU"
      },
      "execution_count": 34,
      "outputs": []
    },
    {
      "cell_type": "code",
      "source": [
        "playersDfRaw = spark.read.csv('nba.csv', header=True, schema=playersSchema)\n",
        "playersDf = playersDfRaw.select(playersDfRaw.Name,\n",
        "                                playersDfRaw.Team,\n",
        "                                playersDfRaw.Number.cast(IntegerType()),\n",
        "                                playersDfRaw.Position,\n",
        "                                playersDfRaw.Age.cast(IntegerType()),\n",
        "                                playersDfRaw.Height,\n",
        "                                playersDfRaw.Weight,\n",
        "                                playersDfRaw.College,\n",
        "                                playersDfRaw.Salary)\n",
        "createPlayersTableStatement = \"\"\"\n",
        "CREATE TABLE if not exists nessie.nba.player (\n",
        "  Name STRING,\n",
        "  Team STRING,\n",
        "  Number INTEGER,\n",
        "  Position STRING,\n",
        "  Age INTEGER,\n",
        "  Height STRING,\n",
        "  Weight DOUBLE,\n",
        "  College STRING,\n",
        "  Salary DECIMAL(14,2)\n",
        ") USING iceberg PARTITIONED BY (Team)\n",
        "\"\"\"\n",
        "\n",
        "createSalaryTableStatement = \"\"\"\n",
        "CREATE TABLE if not exists nessie.nba.salary (\n",
        "  Position STRING,\n",
        "  MeanSalary DECIMAL(14,2)\n",
        ") USING iceberg\n",
        "\"\"\"\n",
        "\n",
        "spark.sql(createPlayersTableStatement).collect()\n",
        "spark.sql(createSalaryTableStatement).collect()\n",
        "\n",
        "playersDf.write.format('iceberg').mode('overwrite').partitionBy('Team').save('nessie.nba.player')\n",
        "playersDf.groupBy('Position').agg(mean('Salary').alias('MeanSalary')).write.format('iceberg').mode('overwrite').save('nessie.nba.salary')"
      ],
      "metadata": {
        "id": "low2oCdCA5jj"
      },
      "execution_count": 41,
      "outputs": []
    },
    {
      "cell_type": "code",
      "source": [
        "spark.sql('SHOW LOG main IN nessie').selectExpr('author', 'message','hash', 'explode(properties)').show()\n",
        "spark.sql('CREATE TAG initial_state IN nessie')"
      ],
      "metadata": {
        "colab": {
          "base_uri": "https://localhost:8080/"
        },
        "id": "NsQdBjvPGWZ5",
        "outputId": "9867c04c-123d-4fa0-acd1-ad40d15c3fe3"
      },
      "execution_count": 53,
      "outputs": [
        {
          "output_type": "stream",
          "name": "stdout",
          "text": [
            "+------+--------------------+--------------------+----------------+-------------------+\n",
            "|author|             message|                hash|             key|              value|\n",
            "+------+--------------------+--------------------+----------------+-------------------+\n",
            "|  root|      iceberg commit|52a6e2d4b6dc3ebaa...|application-type|            iceberg|\n",
            "|  root|      iceberg commit|52a6e2d4b6dc3ebaa...|          app-id|local-1642440435531|\n",
            "|  root|      iceberg commit|b0cad5c1d6da44ccc...|application-type|            iceberg|\n",
            "|  root|      iceberg commit|b0cad5c1d6da44ccc...|          app-id|local-1642440435531|\n",
            "|  root|      iceberg commit|79fc232b74ac5844c...|application-type|            iceberg|\n",
            "|  root|      iceberg commit|79fc232b74ac5844c...|          app-id|local-1642440435531|\n",
            "|  root|      iceberg commit|f87fd480bbbd6cdd4...|application-type|            iceberg|\n",
            "|  root|      iceberg commit|f87fd480bbbd6cdd4...|          app-id|local-1642440435531|\n",
            "|  root|delete table nba....|2c90cffe1145620a9...|application-type|            iceberg|\n",
            "|  root|delete table nba....|2c90cffe1145620a9...|          app-id|local-1642440435531|\n",
            "|  root|delete table nba....|6e8787fa6c1183ad3...|application-type|            iceberg|\n",
            "|  root|delete table nba....|6e8787fa6c1183ad3...|          app-id|local-1642440435531|\n",
            "|  root|      iceberg commit|1b5c3069560646384...|application-type|            iceberg|\n",
            "|  root|      iceberg commit|1b5c3069560646384...|          app-id|local-1642440435531|\n",
            "|  root|      iceberg commit|4f1fe0d796c946cbb...|application-type|            iceberg|\n",
            "|  root|      iceberg commit|4f1fe0d796c946cbb...|          app-id|local-1642440435531|\n",
            "|  root|      iceberg commit|6bfb7639d886b45b8...|application-type|            iceberg|\n",
            "|  root|      iceberg commit|6bfb7639d886b45b8...|          app-id|local-1642440435531|\n",
            "|  root|      iceberg commit|b984a477d23fd1695...|application-type|            iceberg|\n",
            "|  root|      iceberg commit|b984a477d23fd1695...|          app-id|local-1642440435531|\n",
            "+------+--------------------+--------------------+----------------+-------------------+\n",
            "only showing top 20 rows\n",
            "\n"
          ]
        },
        {
          "output_type": "execute_result",
          "data": {
            "text/plain": [
              "DataFrame[refType: string, name: string, hash: string]"
            ]
          },
          "metadata": {},
          "execution_count": 53
        }
      ]
    },
    {
      "cell_type": "code",
      "source": [
        "spark.sql('CREATE BRANCH IF NOT EXISTS fix_null_salaries IN nessie FROM main').collect()\n",
        "spark.sql('USE REFERENCE fix_null_salaries IN nessie').collect()\n",
        "\n",
        "spark.read.format('iceberg').load('nessie.nba.player').where('salary is NULL').show()\n",
        "\n",
        "spark.sql(\"\"\"\n",
        "UPDATE nessie.nba.player\n",
        "SET Salary = 100000.00\n",
        "WHERE Salary is NULL\n",
        "\"\"\")\n",
        "\n",
        "\n",
        "spark.sql('select * from nessie.nba.player').groupBy('Position').agg(mean('Salary').alias('MeanSalary')).write.format('iceberg').mode('overwrite').save('nessie.nba.salary')"
      ],
      "metadata": {
        "colab": {
          "base_uri": "https://localhost:8080/"
        },
        "id": "lOhqBKhBJkqp",
        "outputId": "a5cd4675-6fca-43a8-a808-e34e78dd3f64"
      },
      "execution_count": 66,
      "outputs": [
        {
          "output_type": "stream",
          "name": "stdout",
          "text": [
            "+----+----+------+--------+---+------+------+-------+------+\n",
            "|Name|Team|Number|Position|Age|Height|Weight|College|Salary|\n",
            "+----+----+------+--------+---+------+------+-------+------+\n",
            "+----+----+------+--------+---+------+------+-------+------+\n",
            "\n"
          ]
        }
      ]
    },
    {
      "cell_type": "code",
      "source": [
        "spark.sql('SHOW LOG IN nessie').show()\n",
        "spark.sql('SHOW LOG main IN nessie').selectExpr('1 as main', '*').join(\n",
        "spark.sql('SHOW LOG fix_null_salaries IN nessie').selectExpr('0 as main', '*'), 'hash', 'fullouter').show(100000)\n"
      ],
      "metadata": {
        "id": "niUWVS_jdsA3",
        "colab": {
          "base_uri": "https://localhost:8080/"
        },
        "outputId": "c129c9af-a64e-4904-e699-101f21029f65"
      },
      "execution_count": 102,
      "outputs": [
        {
          "output_type": "stream",
          "name": "stdout",
          "text": [
            "+------+---------+--------------------+--------------------+-----------+--------------------+--------------------+--------------------+\n",
            "|author|committer|                hash|             message|signedOffBy|          authorTime|       committerTime|          properties|\n",
            "+------+---------+--------------------+--------------------+-----------+--------------------+--------------------+--------------------+\n",
            "|  root|         |b0ab72989f633e084...|      iceberg commit|           |2022-01-17 17:52:...|2022-01-17 17:52:...|{application-type...|\n",
            "|  root|         |1651611a3dc4686c7...|      iceberg commit|           |2022-01-17 17:52:...|2022-01-17 17:52:...|{application-type...|\n",
            "|  root|         |0bdd10b8996805e35...|      iceberg commit|           |2022-01-17 17:52:...|2022-01-17 17:52:...|{application-type...|\n",
            "|  root|         |4df705506a9c57ce9...|      iceberg commit|           |2022-01-17 17:51:...|2022-01-17 17:51:...|{application-type...|\n",
            "|  root|         |0869a2badb0e28801...|      iceberg commit|           |2022-01-17 17:51:...|2022-01-17 17:51:...|{application-type...|\n",
            "|  root|         |52a6e2d4b6dc3ebaa...|      iceberg commit|           |2022-01-17 17:41:...|2022-01-17 17:41:...|{application-type...|\n",
            "|  root|         |b0cad5c1d6da44ccc...|      iceberg commit|           |2022-01-17 17:41:...|2022-01-17 17:41:...|{application-type...|\n",
            "|  root|         |79fc232b74ac5844c...|      iceberg commit|           |2022-01-17 17:41:...|2022-01-17 17:41:...|{application-type...|\n",
            "|  root|         |f87fd480bbbd6cdd4...|      iceberg commit|           |2022-01-17 17:41:...|2022-01-17 17:41:...|{application-type...|\n",
            "|  root|         |2c90cffe1145620a9...|delete table nba....|           |2022-01-17 17:41:...|2022-01-17 17:41:...|{application-type...|\n",
            "|  root|         |6e8787fa6c1183ad3...|delete table nba....|           |2022-01-17 17:41:...|2022-01-17 17:41:...|{application-type...|\n",
            "|  root|         |1b5c3069560646384...|      iceberg commit|           |2022-01-17 17:40:...|2022-01-17 17:40:...|{application-type...|\n",
            "|  root|         |4f1fe0d796c946cbb...|      iceberg commit|           |2022-01-17 17:40:...|2022-01-17 17:40:...|{application-type...|\n",
            "|  root|         |6bfb7639d886b45b8...|      iceberg commit|           |2022-01-17 17:40:...|2022-01-17 17:40:...|{application-type...|\n",
            "|  root|         |b984a477d23fd1695...|      iceberg commit|           |2022-01-17 17:38:...|2022-01-17 17:38:...|{application-type...|\n",
            "|  root|         |c7963ef1d07f61399...|      iceberg commit|           |2022-01-17 17:38:...|2022-01-17 17:38:...|{application-type...|\n",
            "|  root|         |0634195e2628c48bf...|      iceberg commit|           |2022-01-17 17:37:...|2022-01-17 17:37:...|{application-type...|\n",
            "|  root|         |b09a8f732ac0a7028...|      iceberg commit|           |2022-01-17 17:37:...|2022-01-17 17:37:...|{application-type...|\n",
            "|  root|         |3baccf127617bda3c...|      iceberg commit|           |2022-01-17 17:32:...|2022-01-17 17:32:...|{application-type...|\n",
            "|  root|         |859548a464b5e300b...|      iceberg commit|           |2022-01-17 17:32:...|2022-01-17 17:32:...|{application-type...|\n",
            "+------+---------+--------------------+--------------------+-----------+--------------------+--------------------+--------------------+\n",
            "only showing top 20 rows\n",
            "\n",
            "+--------------------+----+------+---------+--------------------+-----------+--------------------+--------------------+--------------------+----+------+---------+--------------------+-----------+--------------------+--------------------+--------------------+\n",
            "|                hash|main|author|committer|             message|signedOffBy|          authorTime|       committerTime|          properties|main|author|committer|             message|signedOffBy|          authorTime|       committerTime|          properties|\n",
            "+--------------------+----+------+---------+--------------------+-----------+--------------------+--------------------+--------------------+----+------+---------+--------------------+-----------+--------------------+--------------------+--------------------+\n",
            "|6a9835a88742cbc8e...|   1|  root|         |delete table nba....|           |2022-01-17 17:31:...|2022-01-17 17:31:...|{application-type...|   0|  root|         |delete table nba....|           |2022-01-17 17:31:...|2022-01-17 17:31:...|{application-type...|\n",
            "|2c90cffe1145620a9...|   1|  root|         |delete table nba....|           |2022-01-17 17:41:...|2022-01-17 17:41:...|{application-type...|   0|  root|         |delete table nba....|           |2022-01-17 17:41:...|2022-01-17 17:41:...|{application-type...|\n",
            "|79fc232b74ac5844c...|   1|  root|         |      iceberg commit|           |2022-01-17 17:41:...|2022-01-17 17:41:...|{application-type...|   0|  root|         |      iceberg commit|           |2022-01-17 17:41:...|2022-01-17 17:41:...|{application-type...|\n",
            "|f87fd480bbbd6cdd4...|   1|  root|         |      iceberg commit|           |2022-01-17 17:41:...|2022-01-17 17:41:...|{application-type...|   0|  root|         |      iceberg commit|           |2022-01-17 17:41:...|2022-01-17 17:41:...|{application-type...|\n",
            "|0869a2badb0e28801...|null|  null|     null|                null|       null|                null|                null|                null|   0|  root|         |      iceberg commit|           |2022-01-17 17:51:...|2022-01-17 17:51:...|{application-type...|\n",
            "|4f1fe0d796c946cbb...|   1|  root|         |      iceberg commit|           |2022-01-17 17:40:...|2022-01-17 17:40:...|{application-type...|   0|  root|         |      iceberg commit|           |2022-01-17 17:40:...|2022-01-17 17:40:...|{application-type...|\n",
            "|6e8787fa6c1183ad3...|   1|  root|         |delete table nba....|           |2022-01-17 17:41:...|2022-01-17 17:41:...|{application-type...|   0|  root|         |delete table nba....|           |2022-01-17 17:41:...|2022-01-17 17:41:...|{application-type...|\n",
            "|cde9fc1a144ade29c...|   1|  root|         |delete table nba....|           |2022-01-17 17:32:...|2022-01-17 17:32:...|{application-type...|   0|  root|         |delete table nba....|           |2022-01-17 17:32:...|2022-01-17 17:32:...|{application-type...|\n",
            "|3d17f80e7662e766f...|   1|  root|         |      iceberg commit|           |2022-01-17 17:27:...|2022-01-17 17:27:...|{application-type...|   0|  root|         |      iceberg commit|           |2022-01-17 17:27:...|2022-01-17 17:27:...|{application-type...|\n",
            "|a0473b6ff9678b5de...|   1|  root|         |      iceberg commit|           |2022-01-17 17:31:...|2022-01-17 17:31:...|{application-type...|   0|  root|         |      iceberg commit|           |2022-01-17 17:31:...|2022-01-17 17:31:...|{application-type...|\n",
            "|b984a477d23fd1695...|   1|  root|         |      iceberg commit|           |2022-01-17 17:38:...|2022-01-17 17:38:...|{application-type...|   0|  root|         |      iceberg commit|           |2022-01-17 17:38:...|2022-01-17 17:38:...|{application-type...|\n",
            "|c7963ef1d07f61399...|   1|  root|         |      iceberg commit|           |2022-01-17 17:38:...|2022-01-17 17:38:...|{application-type...|   0|  root|         |      iceberg commit|           |2022-01-17 17:38:...|2022-01-17 17:38:...|{application-type...|\n",
            "|0c52fc5ecd27f098b...|   1|  root|         |delete table nba....|           |2022-01-17 17:31:...|2022-01-17 17:31:...|{application-type...|   0|  root|         |delete table nba....|           |2022-01-17 17:31:...|2022-01-17 17:31:...|{application-type...|\n",
            "|859548a464b5e300b...|   1|  root|         |      iceberg commit|           |2022-01-17 17:32:...|2022-01-17 17:32:...|{application-type...|   0|  root|         |      iceberg commit|           |2022-01-17 17:32:...|2022-01-17 17:32:...|{application-type...|\n",
            "|3baccf127617bda3c...|   1|  root|         |      iceberg commit|           |2022-01-17 17:32:...|2022-01-17 17:32:...|{application-type...|   0|  root|         |      iceberg commit|           |2022-01-17 17:32:...|2022-01-17 17:32:...|{application-type...|\n",
            "|967c1a930fe0345fd...|   1|  root|         |      iceberg commit|           |2022-01-17 17:30:...|2022-01-17 17:30:...|{application-type...|   0|  root|         |      iceberg commit|           |2022-01-17 17:30:...|2022-01-17 17:30:...|{application-type...|\n",
            "|52a6e2d4b6dc3ebaa...|   1|  root|         |      iceberg commit|           |2022-01-17 17:41:...|2022-01-17 17:41:...|{application-type...|   0|  root|         |      iceberg commit|           |2022-01-17 17:41:...|2022-01-17 17:41:...|{application-type...|\n",
            "|6bfb7639d886b45b8...|   1|  root|         |      iceberg commit|           |2022-01-17 17:40:...|2022-01-17 17:40:...|{application-type...|   0|  root|         |      iceberg commit|           |2022-01-17 17:40:...|2022-01-17 17:40:...|{application-type...|\n",
            "|b09a8f732ac0a7028...|   1|  root|         |      iceberg commit|           |2022-01-17 17:37:...|2022-01-17 17:37:...|{application-type...|   0|  root|         |      iceberg commit|           |2022-01-17 17:37:...|2022-01-17 17:37:...|{application-type...|\n",
            "|b0cad5c1d6da44ccc...|   1|  root|         |      iceberg commit|           |2022-01-17 17:41:...|2022-01-17 17:41:...|{application-type...|   0|  root|         |      iceberg commit|           |2022-01-17 17:41:...|2022-01-17 17:41:...|{application-type...|\n",
            "|1b5c3069560646384...|   1|  root|         |      iceberg commit|           |2022-01-17 17:40:...|2022-01-17 17:40:...|{application-type...|   0|  root|         |      iceberg commit|           |2022-01-17 17:40:...|2022-01-17 17:40:...|{application-type...|\n",
            "|0634195e2628c48bf...|   1|  root|         |      iceberg commit|           |2022-01-17 17:37:...|2022-01-17 17:37:...|{application-type...|   0|  root|         |      iceberg commit|           |2022-01-17 17:37:...|2022-01-17 17:37:...|{application-type...|\n",
            "|1651611a3dc4686c7...|null|  null|     null|                null|       null|                null|                null|                null|   0|  root|         |      iceberg commit|           |2022-01-17 17:52:...|2022-01-17 17:52:...|{application-type...|\n",
            "|0bdd10b8996805e35...|null|  null|     null|                null|       null|                null|                null|                null|   0|  root|         |      iceberg commit|           |2022-01-17 17:52:...|2022-01-17 17:52:...|{application-type...|\n",
            "|4df705506a9c57ce9...|null|  null|     null|                null|       null|                null|                null|                null|   0|  root|         |      iceberg commit|           |2022-01-17 17:51:...|2022-01-17 17:51:...|{application-type...|\n",
            "|b0ab72989f633e084...|null|  null|     null|                null|       null|                null|                null|                null|   0|  root|         |      iceberg commit|           |2022-01-17 17:52:...|2022-01-17 17:52:...|{application-type...|\n",
            "+--------------------+----+------+---------+--------------------+-----------+--------------------+--------------------+--------------------+----+------+---------+--------------------+-----------+--------------------+--------------------+--------------------+\n",
            "\n"
          ]
        }
      ]
    },
    {
      "cell_type": "code",
      "source": [
        "spark.sql('MERGE BRANCH fix_null_salaries INTO main IN nessie')\n",
        "spark.sql('SHOW LOG main IN nessie').selectExpr('1 as main', '*').join(\n",
        "spark.sql('SHOW LOG fix_null_salaries IN nessie').selectExpr('0 as main', '*'), 'hash', 'fullouter').show(100000)"
      ],
      "metadata": {
        "colab": {
          "base_uri": "https://localhost:8080/"
        },
        "id": "B4esKTK6o3jo",
        "outputId": "aae4151d-3126-4bba-c370-720f516af1c4"
      },
      "execution_count": 103,
      "outputs": [
        {
          "output_type": "stream",
          "name": "stdout",
          "text": [
            "+--------------------+----+------+---------+--------------------+-----------+--------------------+--------------------+--------------------+----+------+---------+--------------------+-----------+--------------------+--------------------+--------------------+\n",
            "|                hash|main|author|committer|             message|signedOffBy|          authorTime|       committerTime|          properties|main|author|committer|             message|signedOffBy|          authorTime|       committerTime|          properties|\n",
            "+--------------------+----+------+---------+--------------------+-----------+--------------------+--------------------+--------------------+----+------+---------+--------------------+-----------+--------------------+--------------------+--------------------+\n",
            "|6a9835a88742cbc8e...|   1|  root|         |delete table nba....|           |2022-01-17 17:31:...|2022-01-17 17:31:...|{application-type...|   0|  root|         |delete table nba....|           |2022-01-17 17:31:...|2022-01-17 17:31:...|{application-type...|\n",
            "|2c90cffe1145620a9...|   1|  root|         |delete table nba....|           |2022-01-17 17:41:...|2022-01-17 17:41:...|{application-type...|   0|  root|         |delete table nba....|           |2022-01-17 17:41:...|2022-01-17 17:41:...|{application-type...|\n",
            "|79fc232b74ac5844c...|   1|  root|         |      iceberg commit|           |2022-01-17 17:41:...|2022-01-17 17:41:...|{application-type...|   0|  root|         |      iceberg commit|           |2022-01-17 17:41:...|2022-01-17 17:41:...|{application-type...|\n",
            "|f87fd480bbbd6cdd4...|   1|  root|         |      iceberg commit|           |2022-01-17 17:41:...|2022-01-17 17:41:...|{application-type...|   0|  root|         |      iceberg commit|           |2022-01-17 17:41:...|2022-01-17 17:41:...|{application-type...|\n",
            "|0869a2badb0e28801...|   1|  root|         |      iceberg commit|           |2022-01-17 17:51:...|2022-01-17 17:51:...|{application-type...|   0|  root|         |      iceberg commit|           |2022-01-17 17:51:...|2022-01-17 17:51:...|{application-type...|\n",
            "|4f1fe0d796c946cbb...|   1|  root|         |      iceberg commit|           |2022-01-17 17:40:...|2022-01-17 17:40:...|{application-type...|   0|  root|         |      iceberg commit|           |2022-01-17 17:40:...|2022-01-17 17:40:...|{application-type...|\n",
            "|6e8787fa6c1183ad3...|   1|  root|         |delete table nba....|           |2022-01-17 17:41:...|2022-01-17 17:41:...|{application-type...|   0|  root|         |delete table nba....|           |2022-01-17 17:41:...|2022-01-17 17:41:...|{application-type...|\n",
            "|cde9fc1a144ade29c...|   1|  root|         |delete table nba....|           |2022-01-17 17:32:...|2022-01-17 17:32:...|{application-type...|   0|  root|         |delete table nba....|           |2022-01-17 17:32:...|2022-01-17 17:32:...|{application-type...|\n",
            "|3d17f80e7662e766f...|   1|  root|         |      iceberg commit|           |2022-01-17 17:27:...|2022-01-17 17:27:...|{application-type...|   0|  root|         |      iceberg commit|           |2022-01-17 17:27:...|2022-01-17 17:27:...|{application-type...|\n",
            "|a0473b6ff9678b5de...|   1|  root|         |      iceberg commit|           |2022-01-17 17:31:...|2022-01-17 17:31:...|{application-type...|   0|  root|         |      iceberg commit|           |2022-01-17 17:31:...|2022-01-17 17:31:...|{application-type...|\n",
            "|b984a477d23fd1695...|   1|  root|         |      iceberg commit|           |2022-01-17 17:38:...|2022-01-17 17:38:...|{application-type...|   0|  root|         |      iceberg commit|           |2022-01-17 17:38:...|2022-01-17 17:38:...|{application-type...|\n",
            "|c7963ef1d07f61399...|   1|  root|         |      iceberg commit|           |2022-01-17 17:38:...|2022-01-17 17:38:...|{application-type...|   0|  root|         |      iceberg commit|           |2022-01-17 17:38:...|2022-01-17 17:38:...|{application-type...|\n",
            "|0c52fc5ecd27f098b...|   1|  root|         |delete table nba....|           |2022-01-17 17:31:...|2022-01-17 17:31:...|{application-type...|   0|  root|         |delete table nba....|           |2022-01-17 17:31:...|2022-01-17 17:31:...|{application-type...|\n",
            "|859548a464b5e300b...|   1|  root|         |      iceberg commit|           |2022-01-17 17:32:...|2022-01-17 17:32:...|{application-type...|   0|  root|         |      iceberg commit|           |2022-01-17 17:32:...|2022-01-17 17:32:...|{application-type...|\n",
            "|3baccf127617bda3c...|   1|  root|         |      iceberg commit|           |2022-01-17 17:32:...|2022-01-17 17:32:...|{application-type...|   0|  root|         |      iceberg commit|           |2022-01-17 17:32:...|2022-01-17 17:32:...|{application-type...|\n",
            "|967c1a930fe0345fd...|   1|  root|         |      iceberg commit|           |2022-01-17 17:30:...|2022-01-17 17:30:...|{application-type...|   0|  root|         |      iceberg commit|           |2022-01-17 17:30:...|2022-01-17 17:30:...|{application-type...|\n",
            "|52a6e2d4b6dc3ebaa...|   1|  root|         |      iceberg commit|           |2022-01-17 17:41:...|2022-01-17 17:41:...|{application-type...|   0|  root|         |      iceberg commit|           |2022-01-17 17:41:...|2022-01-17 17:41:...|{application-type...|\n",
            "|6bfb7639d886b45b8...|   1|  root|         |      iceberg commit|           |2022-01-17 17:40:...|2022-01-17 17:40:...|{application-type...|   0|  root|         |      iceberg commit|           |2022-01-17 17:40:...|2022-01-17 17:40:...|{application-type...|\n",
            "|b09a8f732ac0a7028...|   1|  root|         |      iceberg commit|           |2022-01-17 17:37:...|2022-01-17 17:37:...|{application-type...|   0|  root|         |      iceberg commit|           |2022-01-17 17:37:...|2022-01-17 17:37:...|{application-type...|\n",
            "|b0cad5c1d6da44ccc...|   1|  root|         |      iceberg commit|           |2022-01-17 17:41:...|2022-01-17 17:41:...|{application-type...|   0|  root|         |      iceberg commit|           |2022-01-17 17:41:...|2022-01-17 17:41:...|{application-type...|\n",
            "|1b5c3069560646384...|   1|  root|         |      iceberg commit|           |2022-01-17 17:40:...|2022-01-17 17:40:...|{application-type...|   0|  root|         |      iceberg commit|           |2022-01-17 17:40:...|2022-01-17 17:40:...|{application-type...|\n",
            "|0634195e2628c48bf...|   1|  root|         |      iceberg commit|           |2022-01-17 17:37:...|2022-01-17 17:37:...|{application-type...|   0|  root|         |      iceberg commit|           |2022-01-17 17:37:...|2022-01-17 17:37:...|{application-type...|\n",
            "|1651611a3dc4686c7...|   1|  root|         |      iceberg commit|           |2022-01-17 17:52:...|2022-01-17 17:52:...|{application-type...|   0|  root|         |      iceberg commit|           |2022-01-17 17:52:...|2022-01-17 17:52:...|{application-type...|\n",
            "|0bdd10b8996805e35...|   1|  root|         |      iceberg commit|           |2022-01-17 17:52:...|2022-01-17 17:52:...|{application-type...|   0|  root|         |      iceberg commit|           |2022-01-17 17:52:...|2022-01-17 17:52:...|{application-type...|\n",
            "|4df705506a9c57ce9...|   1|  root|         |      iceberg commit|           |2022-01-17 17:51:...|2022-01-17 17:51:...|{application-type...|   0|  root|         |      iceberg commit|           |2022-01-17 17:51:...|2022-01-17 17:51:...|{application-type...|\n",
            "|b0ab72989f633e084...|   1|  root|         |      iceberg commit|           |2022-01-17 17:52:...|2022-01-17 17:52:...|{application-type...|   0|  root|         |      iceberg commit|           |2022-01-17 17:52:...|2022-01-17 17:52:...|{application-type...|\n",
            "+--------------------+----+------+---------+--------------------+-----------+--------------------+--------------------+--------------------+----+------+---------+--------------------+-----------+--------------------+--------------------+--------------------+\n",
            "\n"
          ]
        }
      ]
    },
    {
      "cell_type": "code",
      "source": [
        "spark.sql('CREATE BRANCH IF NOT EXISTS add_row IN nessie FROM main').collect()\n",
        "spark.sql('USE REFERENCE add_row IN nessie').collect()\n",
        "spark.sql(\"INSERT INTO nessie.nba.player VALUES ('Name', 'Team', 'Number', 'Position', '12', '12', '12', 'College', '12')\")\n",
        "spark.sql('USE REFERENCE main IN nessie').collect()\n",
        "print('count is: ' + str(spark.sql('select * from nessie.nba.player').count()))\n",
        "spark.sql('USE REFERENCE add_row IN nessie').collect()\n",
        "print('count is: ' + str(spark.sql('select * from nessie.nba.player').count()))\n",
        "spark.sql('MERGE BRANCH add_row INTO main IN nessie').collect()\n",
        "spark.sql('USE REFERENCE main IN nessie').collect()\n",
        "print('count is: ' + str(spark.sql('select * from nessie.nba.player').count()))"
      ],
      "metadata": {
        "colab": {
          "base_uri": "https://localhost:8080/"
        },
        "id": "Q8B-gSPupQbV",
        "outputId": "04a58318-288b-481f-dca2-71de11fd99af"
      },
      "execution_count": null,
      "outputs": [
        {
          "output_type": "stream",
          "name": "stdout",
          "text": [
            "count is: 458\n",
            "count is: 459\n",
            "count is: 459\n"
          ]
        }
      ]
    },
    {
      "cell_type": "code",
      "source": [
        "!cat nessie.log"
      ],
      "metadata": {
        "colab": {
          "base_uri": "https://localhost:8080/"
        },
        "id": "-jMRrVg2qL3_",
        "outputId": "9bfe248f-5e25-4531-96b6-86b0a6b012fd",
        "cellView": "code"
      },
      "execution_count": 1,
      "outputs": [
        {
          "output_type": "stream",
          "name": "stdout",
          "text": [
            "cat: nessie.log: No such file or directory\n"
          ]
        }
      ]
    },
    {
      "cell_type": "code",
      "source": [
        "!build/ngrok http 19120"
      ],
      "metadata": {
        "id": "urY_WPhHxAU2"
      },
      "execution_count": null,
      "outputs": []
    },
    {
      "cell_type": "code",
      "source": [
        ""
      ],
      "metadata": {
        "id": "dhRcrH_AyabP"
      },
      "execution_count": null,
      "outputs": []
    }
  ]
}