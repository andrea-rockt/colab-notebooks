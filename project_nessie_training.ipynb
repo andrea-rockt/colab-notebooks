{
  "nbformat": 4,
  "nbformat_minor": 0,
  "metadata": {
    "colab": {
      "name": "project-nessie-training.ipynb",
      "provenance": [],
      "authorship_tag": "ABX9TyMm4FrL8qDOXjMMTcL9CGYg"
    },
    "kernelspec": {
      "name": "python3",
      "display_name": "Python 3"
    },
    "language_info": {
      "name": "python"
    }
  },
  "cells": [
    {
      "cell_type": "markdown",
      "source": [
        "# Installing prerequisites\n",
        "\n",
        "We are going to configure this colab instance by:\n",
        "\n",
        "* downloading spark-3.2.0\n",
        "* downloading a binary distribution of quarkus nessie\n",
        "\n",
        "We are going to access web uis via tunnels provided by ngrok (register with your github account or google account and get your auth token)\n",
        "\n",
        "replace `THE_AUTH_TOKEN_FOR_NGROK` with your actual auth token"
      ],
      "metadata": {
        "id": "3Io8hXp5nEUB"
      }
    },
    {
      "cell_type": "code",
      "execution_count": 1,
      "metadata": {
        "colab": {
          "base_uri": "https://localhost:8080/"
        },
        "id": "1dnXdnDVTH-V",
        "outputId": "ddfb4a5d-f048-4f6c-c127-17975f4778ae"
      },
      "outputs": [
        {
          "output_type": "stream",
          "name": "stdout",
          "text": [
            "Installing SPARK\n",
            "Installing FINDSPARK\n",
            "Installing NESSIE\n",
            "Authtoken saved to configuration file: /root/.ngrok2/ngrok.yml\n"
          ]
        },
        {
          "output_type": "execute_result",
          "data": {
            "text/plain": [
              ""
            ]
          },
          "metadata": {},
          "execution_count": 1
        }
      ],
      "source": [
        "%%shell\n",
        "mkdir -p build\n",
        "cd build\n",
        "echo \"Installing SPARK\"\n",
        "wget -q https://downloads.apache.org/spark/spark-3.1.2/spark-3.1.2-bin-hadoop3.2.tgz\n",
        "tar xf spark-3.1.2-bin-hadoop3.2.tgz\n",
        "echo \"Installing FINDSPARK\"\n",
        "pip -q install findspark\n",
        "echo \"Installing NESSIE\"\n",
        "wget -q https://github.com/andrea-rockt/colab-notebooks/raw/main/data/nessie-quarkus-0.9.2.tar.gz\n",
        "tar xf nessie-quarkus-0.9.2.tar.gz\n",
        "chmod +x nessie-quarkus-0.9.2.bin\n",
        "wget -q https://bin.equinox.io/c/4VmDzA7iaHb/ngrok-stable-linux-amd64.tgz\n",
        "tar xf ngrok-stable-linux-amd64.tgz\n",
        "\n",
        "./ngrok authtoken YOUR_TOKEN_HERE"
      ]
    },
    {
      "cell_type": "markdown",
      "source": [
        "We will start nessie as a background process nessie will serve its web UI at localhost:19120\n",
        "\n",
        "nessie will use in memory persistence so everything we do will be ephemeral"
      ],
      "metadata": {
        "id": "C2Eze39Js3BR"
      }
    },
    {
      "cell_type": "code",
      "source": [
        "import os\n",
        "os.system(\"/content/build/nessie-quarkus-0.9.2.bin 2>&1 > nessie.log &\")"
      ],
      "metadata": {
        "colab": {
          "base_uri": "https://localhost:8080/"
        },
        "id": "qiRWowJcXI4N",
        "outputId": "b710dc12-4068-480d-c9db-ff6510264181"
      },
      "execution_count": 2,
      "outputs": [
        {
          "output_type": "execute_result",
          "data": {
            "text/plain": [
              "0"
            ]
          },
          "metadata": {},
          "execution_count": 2
        }
      ]
    },
    {
      "cell_type": "code",
      "source": [
        "import findspark\n",
        "import os\n",
        "os.environ[\"JAVA_HOME\"] = \"/usr/lib/jvm/java-11-openjdk-amd64\"\n",
        "os.environ[\"SPARK_HOME\"] = \"/content/build/spark-3.1.2-bin-hadoop3.2\"\n",
        "\n",
        "# Full url of the Nessie API endpoint to nessie\n",
        "url = \"http://localhost:19120/api/v1\"\n",
        "# Where to store nessie tables\n",
        "full_path_to_warehouse = '/warehouse/'\n",
        "# The ref or context that nessie will operate on (if different from default branch).\n",
        "# Can be the name of a Nessie branch or tag or a Nessie commit SHA.\n",
        "ref = \"main\"\n",
        "# Nessie authentication type (BASIC, NONE or AWS)\n",
        "auth_type = \"NONE\"\n",
        "\n",
        "findspark.init()\n",
        "from pyspark.sql import SparkSession\n",
        "spark= SparkSession \\\n",
        "       .builder \\\n",
        "       .appName(\"Our First Spark example\") \\\n",
        "       .config(\"spark.jars.packages\",\n",
        "              \"org.apache.iceberg:iceberg-spark3-runtime:0.12.0,org.projectnessie:nessie-spark-extensions:0.18.0\") \\\n",
        "        .config(\"spark.sql.extensions\", \n",
        "               \"org.apache.iceberg.spark.extensions.IcebergSparkSessionExtensions,org.projectnessie.spark.extensions.NessieSparkSessionExtensions\") \\\n",
        "        .config(\"spark.sql.catalog.nessie.uri\", url) \\\n",
        "        .config(\"spark.sql.catalog.nessie.ref\", ref) \\\n",
        "        .config(\"spark.sql.catalog.nessie.authentication.type\", auth_type) \\\n",
        "        .config(\"spark.sql.catalog.nessie.catalog-impl\", \n",
        "               \"org.apache.iceberg.nessie.NessieCatalog\") \\\n",
        "        .config(\"spark.sql.catalog.nessie.warehouse\", full_path_to_warehouse) \\\n",
        "        .config(\"spark.sql.catalog.nessie\",\n",
        "               \"org.apache.iceberg.spark.SparkCatalog\") \\\n",
        "       .getOrCreate()\n",
        "spark"
      ],
      "metadata": {
        "id": "GL8UdHzgpqC2",
        "colab": {
          "base_uri": "https://localhost:8080/",
          "height": 216
        },
        "outputId": "93eb5d52-eb97-44de-daa6-5b8c44f60aa1"
      },
      "execution_count": 3,
      "outputs": [
        {
          "output_type": "execute_result",
          "data": {
            "text/html": [
              "\n",
              "            <div>\n",
              "                <p><b>SparkSession - in-memory</b></p>\n",
              "                \n",
              "        <div>\n",
              "            <p><b>SparkContext</b></p>\n",
              "\n",
              "            <p><a href=\"http://fd1619557d1d:4040\">Spark UI</a></p>\n",
              "\n",
              "            <dl>\n",
              "              <dt>Version</dt>\n",
              "                <dd><code>v3.1.2</code></dd>\n",
              "              <dt>Master</dt>\n",
              "                <dd><code>local[*]</code></dd>\n",
              "              <dt>AppName</dt>\n",
              "                <dd><code>Our First Spark example</code></dd>\n",
              "            </dl>\n",
              "        </div>\n",
              "        \n",
              "            </div>\n",
              "        "
            ],
            "text/plain": [
              "<pyspark.sql.session.SparkSession at 0x7f98078df510>"
            ]
          },
          "metadata": {},
          "execution_count": 3
        }
      ]
    },
    {
      "cell_type": "code",
      "source": [
        "!wget -q https://github.com/sivabalanb/Data-Analysis-with-Pandas-and-Python/raw/master/nba.csv"
      ],
      "metadata": {
        "id": "uDTF-MF_cx6K"
      },
      "execution_count": 4,
      "outputs": []
    },
    {
      "cell_type": "code",
      "source": [
        "spark.sql('CREATE BRANCH IF NOT EXISTS initial_load IN nessie FROM main').collect()\n",
        "spark.sql('USE REFERENCE initial_load IN nessie').collect()\n",
        "createStatement = 'CREATE TABLE nessie.nba.player (Name STRING, Team STRING, Number String, Position STRING, Age STRING, Height STRING, Weight STRING, College STRING, Salary STRING) USING iceberg PARTITIONED BY (Team)'\n",
        "spark.sql(createStatement).collect()\n",
        "playersDf = spark.read.csv('nba.csv', header=True)\n",
        "playersDf.write.format('iceberg').mode('append').partitionBy('Team').save('nessie.nba.player')"
      ],
      "metadata": {
        "id": "niUWVS_jdsA3"
      },
      "execution_count": 5,
      "outputs": []
    },
    {
      "cell_type": "code",
      "source": [
        "spark.sql('MERGE BRANCH initial_load INTO main IN nessie').collect()"
      ],
      "metadata": {
        "colab": {
          "base_uri": "https://localhost:8080/"
        },
        "id": "B4esKTK6o3jo",
        "outputId": "5fd78ba8-7e48-4fad-84a9-8c72746f2593"
      },
      "execution_count": 6,
      "outputs": [
        {
          "output_type": "execute_result",
          "data": {
            "text/plain": [
              "[Row(name='main', hash='419f926faf2704ed6521607316b7e97bbd2e820e341e9f019041e0c3377efd0f')]"
            ]
          },
          "metadata": {},
          "execution_count": 6
        }
      ]
    },
    {
      "cell_type": "code",
      "source": [
        "spark.sql('CREATE BRANCH IF NOT EXISTS add_row IN nessie FROM main').collect()\n",
        "spark.sql('USE REFERENCE add_row IN nessie').collect()\n",
        "spark.sql(\"INSERT INTO nessie.nba.player VALUES ('Name', 'Team', 'Number', 'Position', '12', '12', '12', 'College', '12')\")\n",
        "spark.sql('USE REFERENCE main IN nessie').collect()\n",
        "print('count is: ' + str(spark.sql('select * from nessie.nba.player').count()))\n",
        "spark.sql('USE REFERENCE add_row IN nessie').collect()\n",
        "print('count is: ' + str(spark.sql('select * from nessie.nba.player').count()))\n",
        "spark.sql('MERGE BRANCH add_row INTO main IN nessie').collect()\n",
        "spark.sql('USE REFERENCE main IN nessie').collect()\n",
        "print('count is: ' + str(spark.sql('select * from nessie.nba.player').count()))"
      ],
      "metadata": {
        "colab": {
          "base_uri": "https://localhost:8080/"
        },
        "id": "Q8B-gSPupQbV",
        "outputId": "04a58318-288b-481f-dca2-71de11fd99af"
      },
      "execution_count": 7,
      "outputs": [
        {
          "output_type": "stream",
          "name": "stdout",
          "text": [
            "count is: 458\n",
            "count is: 459\n",
            "count is: 459\n"
          ]
        }
      ]
    },
    {
      "cell_type": "code",
      "source": [
        "!cat nessie.log"
      ],
      "metadata": {
        "colab": {
          "base_uri": "https://localhost:8080/"
        },
        "id": "-jMRrVg2qL3_",
        "outputId": "a38a4a4b-7255-4fc5-f9fd-b6f272f88e7e"
      },
      "execution_count": 9,
      "outputs": [
        {
          "output_type": "stream",
          "name": "stdout",
          "text": [
            "__  ____  __  _____   ___  __ ____  ______ \n",
            " --/ __ \\/ / / / _ | / _ \\/ //_/ / / / __/ \n",
            " -/ /_/ / /_/ / __ |/ , _/ ,< / /_/ /\\ \\   \n",
            "--\\___\\_\\____/_/ |_/_/|_/_/|_|\\____/___/   \n",
            "2022-01-17 10:52:00,057 INFO  [org.pro.ser.pro.ConfigurableVersionStoreFactory] (main) Using INMEMORY Version store\n",
            "2022-01-17 10:52:00,065 INFO  [io.quarkus] (main) nessie-quarkus 0.9.2 native (powered by Quarkus 2.2.0.Final) started in 0.063s. Listening on: http://0.0.0.0:19120\n",
            "2022-01-17 10:52:00,065 INFO  [io.quarkus] (main) Profile prod activated. \n",
            "2022-01-17 10:52:00,065 INFO  [io.quarkus] (main) Installed features: [amazon-dynamodb, cdi, hibernate-validator, jaeger, jgit, micrometer, resteasy, resteasy-jackson, security, security-properties-file, sentry, smallrye-context-propagation, smallrye-health, smallrye-openapi, smallrye-opentracing, swagger-ui, vertx, vertx-web]\n",
            "2022-01-17 10:52:19,915 INFO  [io.qua.htt.access-log] (executor-thread-0) 127.0.0.1 - - 17/Jan/2022:10:52:19 +0000 \"GET /api/v1/trees/tree/main HTTP/1.1\" 200 121\n",
            "2022-01-17 10:52:20,189 INFO  [io.qua.htt.access-log] (executor-thread-0) 127.0.0.1 - - 17/Jan/2022:10:52:20 +0000 \"POST /api/v1/trees/tree HTTP/1.1\" 200 129\n",
            "2022-01-17 10:52:20,193 INFO  [io.qua.htt.access-log] (executor-thread-0) 127.0.0.1 - - 17/Jan/2022:10:52:20 +0000 \"GET /api/v1/trees/tree/initial_load HTTP/1.1\" 200 129\n",
            "2022-01-17 10:52:20,358 INFO  [io.qua.htt.access-log] (executor-thread-0) 127.0.0.1 - - 17/Jan/2022:10:52:20 +0000 \"GET /api/v1/trees/tree/initial_load HTTP/1.1\" 200 129\n",
            "2022-01-17 10:52:20,428 INFO  [io.qua.htt.access-log] (executor-thread-0) 127.0.0.1 - - 17/Jan/2022:10:52:20 +0000 \"GET /api/v1/trees/tree/main HTTP/1.1\" 200 121\n",
            "2022-01-17 10:52:20,480 INFO  [io.qua.htt.access-log] (executor-thread-0) 127.0.0.1 - - 17/Jan/2022:10:52:20 +0000 \"GET /api/v1/trees/tree/initial_load HTTP/1.1\" 200 129\n",
            "2022-01-17 10:52:21,095 INFO  [io.qua.htt.access-log] (executor-thread-0) 127.0.0.1 - - 17/Jan/2022:10:52:21 +0000 \"GET /api/v1/trees/tree/initial_load HTTP/1.1\" 200 129\n",
            "2022-01-17 10:52:21,102 INFO  [io.qua.htt.access-log] (executor-thread-0) 127.0.0.1 - - 17/Jan/2022:10:52:21 +0000 \"GET /api/v1/contents/nba.player?ref=initial_load&hashOnRef=2e1cfa82b035c26cbbbdae632cea070514eb8b773f616aaeaf668e2f0be8f10d HTTP/1.1\" 404 210\n",
            "2022-01-17 10:52:21,199 INFO  [io.qua.htt.access-log] (executor-thread-0) 127.0.0.1 - - 17/Jan/2022:10:52:21 +0000 \"GET /api/v1/trees/tree/initial_load HTTP/1.1\" 200 129\n",
            "2022-01-17 10:52:21,202 INFO  [io.qua.htt.access-log] (executor-thread-0) 127.0.0.1 - - 17/Jan/2022:10:52:21 +0000 \"GET /api/v1/contents/nba.player?ref=initial_load&hashOnRef=2e1cfa82b035c26cbbbdae632cea070514eb8b773f616aaeaf668e2f0be8f10d HTTP/1.1\" 404 210\n",
            "2022-01-17 10:52:21,521 INFO  [io.qua.htt.access-log] (executor-thread-0) 127.0.0.1 - - 17/Jan/2022:10:52:21 +0000 \"POST /api/v1/trees/branch/initial_load/commit?expectedHash=2e1cfa82b035c26cbbbdae632cea070514eb8b773f616aaeaf668e2f0be8f10d HTTP/1.1\" 200 129\n",
            "2022-01-17 10:52:25,559 INFO  [io.qua.htt.access-log] (executor-thread-0) 127.0.0.1 - - 17/Jan/2022:10:52:25 +0000 \"GET /api/v1/trees/tree/initial_load HTTP/1.1\" 200 129\n",
            "2022-01-17 10:52:25,563 INFO  [io.qua.htt.access-log] (executor-thread-0) 127.0.0.1 - - 17/Jan/2022:10:52:25 +0000 \"GET /api/v1/contents/nba.player?ref=initial_load&hashOnRef=3d75a73277bdee5413fa3c901b1839d6a488c8d1f543f01753d6a116bf41597b HTTP/1.1\" 200 193\n",
            "2022-01-17 10:52:28,853 INFO  [io.qua.htt.access-log] (executor-thread-0) 127.0.0.1 - - 17/Jan/2022:10:52:28 +0000 \"GET /api/v1/trees/tree/initial_load HTTP/1.1\" 200 129\n",
            "2022-01-17 10:52:28,857 INFO  [io.qua.htt.access-log] (executor-thread-0) 127.0.0.1 - - 17/Jan/2022:10:52:28 +0000 \"GET /api/v1/contents/nba.player?ref=initial_load&hashOnRef=3d75a73277bdee5413fa3c901b1839d6a488c8d1f543f01753d6a116bf41597b HTTP/1.1\" 200 193\n",
            "2022-01-17 10:52:29,123 INFO  [io.qua.htt.access-log] (executor-thread-0) 127.0.0.1 - - 17/Jan/2022:10:52:29 +0000 \"POST /api/v1/trees/branch/initial_load/commit?expectedHash=3d75a73277bdee5413fa3c901b1839d6a488c8d1f543f01753d6a116bf41597b HTTP/1.1\" 200 129\n",
            "2022-01-17 10:52:29,126 INFO  [io.qua.htt.access-log] (executor-thread-0) 127.0.0.1 - - 17/Jan/2022:10:52:29 +0000 \"GET /api/v1/trees/tree/initial_load HTTP/1.1\" 200 129\n",
            "2022-01-17 10:52:29,128 INFO  [io.qua.htt.access-log] (executor-thread-0) 127.0.0.1 - - 17/Jan/2022:10:52:29 +0000 \"GET /api/v1/contents/nba.player?ref=initial_load&hashOnRef=419f926faf2704ed6521607316b7e97bbd2e820e341e9f019041e0c3377efd0f HTTP/1.1\" 200 193\n",
            "2022-01-17 10:52:29,247 INFO  [io.qua.htt.access-log] (executor-thread-0) 127.0.0.1 - - 17/Jan/2022:10:52:29 +0000 \"GET /api/v1/trees/tree/initial_load HTTP/1.1\" 200 129\n",
            "2022-01-17 10:52:29,250 INFO  [io.qua.htt.access-log] (executor-thread-0) 127.0.0.1 - - 17/Jan/2022:10:52:29 +0000 \"GET /api/v1/contents/nba.player?ref=initial_load&hashOnRef=419f926faf2704ed6521607316b7e97bbd2e820e341e9f019041e0c3377efd0f HTTP/1.1\" 200 193\n",
            "2022-01-17 10:52:29,328 INFO  [io.qua.htt.access-log] (executor-thread-0) 127.0.0.1 - - 17/Jan/2022:10:52:29 +0000 \"GET /api/v1/trees/tree/initial_load HTTP/1.1\" 200 129\n",
            "2022-01-17 10:52:29,338 INFO  [io.qua.htt.access-log] (executor-thread-0) 127.0.0.1 - - 17/Jan/2022:10:52:29 +0000 \"GET /api/v1/trees/tree/main HTTP/1.1\" 200 121\n",
            "2022-01-17 10:52:29,357 INFO  [io.qua.htt.access-log] (executor-thread-0) 127.0.0.1 - - 17/Jan/2022:10:52:29 +0000 \"POST /api/v1/trees/branch/main/merge?expectedHash=2e1cfa82b035c26cbbbdae632cea070514eb8b773f616aaeaf668e2f0be8f10d HTTP/1.1\" 204 -\n",
            "2022-01-17 10:52:29,360 INFO  [io.qua.htt.access-log] (executor-thread-0) 127.0.0.1 - - 17/Jan/2022:10:52:29 +0000 \"GET /api/v1/trees/tree/main HTTP/1.1\" 200 121\n",
            "2022-01-17 10:52:29,451 INFO  [io.qua.htt.access-log] (executor-thread-0) 127.0.0.1 - - 17/Jan/2022:10:52:29 +0000 \"GET /api/v1/trees/tree/main HTTP/1.1\" 200 121\n",
            "2022-01-17 10:52:29,466 INFO  [io.qua.htt.access-log] (executor-thread-0) 127.0.0.1 - - 17/Jan/2022:10:52:29 +0000 \"POST /api/v1/trees/tree HTTP/1.1\" 200 124\n",
            "2022-01-17 10:52:29,472 INFO  [io.qua.htt.access-log] (executor-thread-0) 127.0.0.1 - - 17/Jan/2022:10:52:29 +0000 \"GET /api/v1/trees/tree/add_row HTTP/1.1\" 200 124\n",
            "2022-01-17 10:52:29,522 INFO  [io.qua.htt.access-log] (executor-thread-0) 127.0.0.1 - - 17/Jan/2022:10:52:29 +0000 \"GET /api/v1/trees/tree/add_row HTTP/1.1\" 200 124\n",
            "2022-01-17 10:52:29,536 INFO  [io.qua.htt.access-log] (executor-thread-0) 127.0.0.1 - - 17/Jan/2022:10:52:29 +0000 \"GET /api/v1/trees/tree/add_row HTTP/1.1\" 200 124\n",
            "2022-01-17 10:52:29,662 INFO  [io.qua.htt.access-log] (executor-thread-0) 127.0.0.1 - - 17/Jan/2022:10:52:29 +0000 \"GET /api/v1/trees/tree/add_row HTTP/1.1\" 200 124\n",
            "2022-01-17 10:52:29,669 INFO  [io.qua.htt.access-log] (executor-thread-0) 127.0.0.1 - - 17/Jan/2022:10:52:29 +0000 \"GET /api/v1/contents/nba.player?ref=add_row&hashOnRef=419f926faf2704ed6521607316b7e97bbd2e820e341e9f019041e0c3377efd0f HTTP/1.1\" 200 193\n",
            "2022-01-17 10:52:30,067 INFO  [io.qua.htt.access-log] (executor-thread-0) 127.0.0.1 - - 17/Jan/2022:10:52:30 +0000 \"GET /api/v1/trees/tree/add_row HTTP/1.1\" 200 124\n",
            "2022-01-17 10:52:30,070 INFO  [io.qua.htt.access-log] (executor-thread-0) 127.0.0.1 - - 17/Jan/2022:10:52:30 +0000 \"GET /api/v1/contents/nba.player?ref=add_row&hashOnRef=419f926faf2704ed6521607316b7e97bbd2e820e341e9f019041e0c3377efd0f HTTP/1.1\" 200 193\n",
            "2022-01-17 10:52:30,249 INFO  [io.qua.htt.access-log] (executor-thread-0) 127.0.0.1 - - 17/Jan/2022:10:52:30 +0000 \"POST /api/v1/trees/branch/add_row/commit?expectedHash=419f926faf2704ed6521607316b7e97bbd2e820e341e9f019041e0c3377efd0f HTTP/1.1\" 200 124\n",
            "2022-01-17 10:52:30,253 INFO  [io.qua.htt.access-log] (executor-thread-0) 127.0.0.1 - - 17/Jan/2022:10:52:30 +0000 \"GET /api/v1/trees/tree/add_row HTTP/1.1\" 200 124\n",
            "2022-01-17 10:52:30,256 INFO  [io.qua.htt.access-log] (executor-thread-0) 127.0.0.1 - - 17/Jan/2022:10:52:30 +0000 \"GET /api/v1/contents/nba.player?ref=add_row&hashOnRef=63134cb65ef05763768a19648dbf345d83fd8d841b6e8090e3ed4c097c1c4cb2 HTTP/1.1\" 200 193\n",
            "2022-01-17 10:52:30,286 INFO  [io.qua.htt.access-log] (executor-thread-0) 127.0.0.1 - - 17/Jan/2022:10:52:30 +0000 \"GET /api/v1/trees/tree/add_row HTTP/1.1\" 200 124\n",
            "2022-01-17 10:52:30,291 INFO  [io.qua.htt.access-log] (executor-thread-0) 127.0.0.1 - - 17/Jan/2022:10:52:30 +0000 \"GET /api/v1/contents/nba.player?ref=add_row&hashOnRef=63134cb65ef05763768a19648dbf345d83fd8d841b6e8090e3ed4c097c1c4cb2 HTTP/1.1\" 200 193\n",
            "2022-01-17 10:52:30,319 INFO  [io.qua.htt.access-log] (executor-thread-0) 127.0.0.1 - - 17/Jan/2022:10:52:30 +0000 \"GET /api/v1/trees/tree/main HTTP/1.1\" 200 121\n",
            "2022-01-17 10:52:30,330 INFO  [io.qua.htt.access-log] (executor-thread-0) 127.0.0.1 - - 17/Jan/2022:10:52:30 +0000 \"GET /api/v1/trees/tree/main HTTP/1.1\" 200 121\n",
            "2022-01-17 10:52:30,389 INFO  [io.qua.htt.access-log] (executor-thread-0) 127.0.0.1 - - 17/Jan/2022:10:52:30 +0000 \"GET /api/v1/trees/tree/main HTTP/1.1\" 200 121\n",
            "2022-01-17 10:52:30,392 INFO  [io.qua.htt.access-log] (executor-thread-0) 127.0.0.1 - - 17/Jan/2022:10:52:30 +0000 \"GET /api/v1/contents/nba.player?ref=main&hashOnRef=419f926faf2704ed6521607316b7e97bbd2e820e341e9f019041e0c3377efd0f HTTP/1.1\" 200 193\n",
            "2022-01-17 10:52:31,643 INFO  [io.qua.htt.access-log] (executor-thread-0) 127.0.0.1 - - 17/Jan/2022:10:52:31 +0000 \"GET /api/v1/trees/tree/add_row HTTP/1.1\" 200 124\n",
            "2022-01-17 10:52:31,657 INFO  [io.qua.htt.access-log] (executor-thread-0) 127.0.0.1 - - 17/Jan/2022:10:52:31 +0000 \"GET /api/v1/trees/tree/add_row HTTP/1.1\" 200 124\n",
            "2022-01-17 10:52:31,693 INFO  [io.qua.htt.access-log] (executor-thread-0) 127.0.0.1 - - 17/Jan/2022:10:52:31 +0000 \"GET /api/v1/trees/tree/add_row HTTP/1.1\" 200 124\n",
            "2022-01-17 10:52:31,696 INFO  [io.qua.htt.access-log] (executor-thread-0) 127.0.0.1 - - 17/Jan/2022:10:52:31 +0000 \"GET /api/v1/contents/nba.player?ref=add_row&hashOnRef=63134cb65ef05763768a19648dbf345d83fd8d841b6e8090e3ed4c097c1c4cb2 HTTP/1.1\" 200 193\n",
            "2022-01-17 10:52:32,208 INFO  [io.qua.htt.access-log] (executor-thread-0) 127.0.0.1 - - 17/Jan/2022:10:52:32 +0000 \"GET /api/v1/trees/tree/add_row HTTP/1.1\" 200 124\n",
            "2022-01-17 10:52:32,213 INFO  [io.qua.htt.access-log] (executor-thread-0) 127.0.0.1 - - 17/Jan/2022:10:52:32 +0000 \"GET /api/v1/trees/tree/main HTTP/1.1\" 200 121\n",
            "2022-01-17 10:52:32,219 INFO  [io.qua.htt.access-log] (executor-thread-0) 127.0.0.1 - - 17/Jan/2022:10:52:32 +0000 \"POST /api/v1/trees/branch/main/merge?expectedHash=419f926faf2704ed6521607316b7e97bbd2e820e341e9f019041e0c3377efd0f HTTP/1.1\" 204 -\n",
            "2022-01-17 10:52:32,221 INFO  [io.qua.htt.access-log] (executor-thread-0) 127.0.0.1 - - 17/Jan/2022:10:52:32 +0000 \"GET /api/v1/trees/tree/main HTTP/1.1\" 200 121\n",
            "2022-01-17 10:52:32,244 INFO  [io.qua.htt.access-log] (executor-thread-0) 127.0.0.1 - - 17/Jan/2022:10:52:32 +0000 \"GET /api/v1/trees/tree/main HTTP/1.1\" 200 121\n",
            "2022-01-17 10:52:32,251 INFO  [io.qua.htt.access-log] (executor-thread-0) 127.0.0.1 - - 17/Jan/2022:10:52:32 +0000 \"GET /api/v1/trees/tree/main HTTP/1.1\" 200 121\n",
            "2022-01-17 10:52:32,269 INFO  [io.qua.htt.access-log] (executor-thread-0) 127.0.0.1 - - 17/Jan/2022:10:52:32 +0000 \"GET /api/v1/trees/tree/main HTTP/1.1\" 200 121\n",
            "2022-01-17 10:52:32,271 INFO  [io.qua.htt.access-log] (executor-thread-0) 127.0.0.1 - - 17/Jan/2022:10:52:32 +0000 \"GET /api/v1/contents/nba.player?ref=main&hashOnRef=63134cb65ef05763768a19648dbf345d83fd8d841b6e8090e3ed4c097c1c4cb2 HTTP/1.1\" 200 193\n"
          ]
        }
      ]
    },
    {
      "cell_type": "code",
      "source": [
        "!build/ngrok http 19120"
      ],
      "metadata": {
        "id": "urY_WPhHxAU2"
      },
      "execution_count": 11,
      "outputs": []
    },
    {
      "cell_type": "code",
      "source": [
        ""
      ],
      "metadata": {
        "id": "dhRcrH_AyabP"
      },
      "execution_count": null,
      "outputs": []
    }
  ]
}