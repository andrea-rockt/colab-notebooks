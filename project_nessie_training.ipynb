{
  "nbformat": 4,
  "nbformat_minor": 0,
  "metadata": {
    "colab": {
      "name": "project-nessie-training.ipynb",
      "provenance": [],
      "authorship_tag": "ABX9TyO+JTtBmNAwRJEr0D6r4yGB"
    },
    "kernelspec": {
      "name": "python3",
      "display_name": "Python 3"
    },
    "language_info": {
      "name": "python"
    }
  },
  "cells": [
    {
      "cell_type": "markdown",
      "source": [
        "# Installing prerequisites\n",
        "\n",
        "We are going to configure this colab instance by:\n",
        "\n",
        "* downloading spark-3.2.0\n",
        "* downloading a binary distribution of quarkus nessie\n",
        "\n",
        "We are going to access web uis via tunnels provided by ngrok (register with your github account or google account and get your auth token)\n",
        "\n",
        "replace `THE_AUTH_TOKEN_FOR_NGROK` with your actual auth token"
      ],
      "metadata": {
        "id": "3Io8hXp5nEUB"
      }
    },
    {
      "cell_type": "code",
      "execution_count": 1,
      "metadata": {
        "colab": {
          "base_uri": "https://localhost:8080/"
        },
        "id": "1dnXdnDVTH-V",
        "outputId": "cf435a2e-eff5-405d-bb5d-b5c19f12e6d0"
      },
      "outputs": [
        {
          "output_type": "stream",
          "name": "stdout",
          "text": [
            "Installing SPARK\n",
            "Installing FINDSPARK\n",
            "Installing NESSIE\n",
            "Authtoken saved to configuration file: /root/.ngrok2/ngrok.yml\n"
          ]
        },
        {
          "output_type": "execute_result",
          "data": {
            "text/plain": [
              ""
            ]
          },
          "metadata": {},
          "execution_count": 1
        }
      ],
      "source": [
        "%%shell\n",
        "mkdir -p build\n",
        "cd build\n",
        "echo \"Installing SPARK\"\n",
        "wget -q https://downloads.apache.org/spark/spark-3.2.0/spark-3.2.0-bin-hadoop3.2.tgz\n",
        "tar xf spark-3.2.0-bin-hadoop3.2.tgz\n",
        "echo \"Installing FINDSPARK\"\n",
        "pip -q install findspark\n",
        "echo \"Installing NESSIE\"\n",
        "wget -q https://github.com/andrea-rockt/colab-notebooks/raw/main/data/nessie-quarkus-0.18.0.bin\n",
        "chmod +x nessie-quarkus-0.18.0.bin\n",
        "wget -q https://bin.equinox.io/c/4VmDzA7iaHb/ngrok-stable-linux-amd64.tgz\n",
        "tar xf ngrok-stable-linux-amd64.tgz\n",
        "\n",
        "./ngrok authtoken THE_AUTH_TOKEN_FOR_NGROK"
      ]
    },
    {
      "cell_type": "markdown",
      "source": [
        "We will start nessie as a background process nessie will serve its web UI at localhost:19120\n",
        "\n",
        "nessie will use in memory persistence so everything we do will be ephemeral"
      ],
      "metadata": {
        "id": "C2Eze39Js3BR"
      }
    },
    {
      "cell_type": "code",
      "source": [
        "import os\n",
        "os.system(\"/content/build/nessie-quarkus-0.18.0.bin &\")"
      ],
      "metadata": {
        "colab": {
          "base_uri": "https://localhost:8080/"
        },
        "id": "qiRWowJcXI4N",
        "outputId": "8741bfff-acd9-4ba1-f67f-2c46d65c1acb"
      },
      "execution_count": 2,
      "outputs": [
        {
          "output_type": "execute_result",
          "data": {
            "text/plain": [
              "0"
            ]
          },
          "metadata": {},
          "execution_count": 2
        }
      ]
    },
    {
      "cell_type": "code",
      "source": [
        "import findspark\n",
        "import os\n",
        "os.environ[\"JAVA_HOME\"] = \"/usr/lib/jvm/java-11-openjdk-amd64\"\n",
        "os.environ[\"SPARK_HOME\"] = \"/content/build/spark-3.2.0-bin-hadoop3.2\"\n",
        "findspark.init()\n",
        "from pyspark.sql import SparkSession\n",
        "spark= SparkSession \\\n",
        "       .builder \\\n",
        "       .appName(\"Our First Spark example\") \\\n",
        "       .getOrCreate()\n",
        "spark"
      ],
      "metadata": {
        "id": "GL8UdHzgpqC2"
      },
      "execution_count": 3,
      "outputs": []
    }
  ]
}